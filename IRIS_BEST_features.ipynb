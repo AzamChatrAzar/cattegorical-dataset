{
  "nbformat": 4,
  "nbformat_minor": 0,
  "metadata": {
    "colab": {
      "provenance": [],
      "authorship_tag": "ABX9TyPF8oZ5mSB/kMgo0p+BjYY3",
      "include_colab_link": true
    },
    "kernelspec": {
      "name": "python3",
      "display_name": "Python 3"
    },
    "language_info": {
      "name": "python"
    }
  },
  "cells": [
    {
      "cell_type": "markdown",
      "metadata": {
        "id": "view-in-github",
        "colab_type": "text"
      },
      "source": [
        "<a href=\"https://colab.research.google.com/github/AzamChatrAzar/cattegorical-dataset/blob/main/IRIS_BEST_features.ipynb\" target=\"_parent\"><img src=\"https://colab.research.google.com/assets/colab-badge.svg\" alt=\"Open In Colab\"/></a>"
      ]
    },
    {
      "cell_type": "code",
      "execution_count": 1,
      "metadata": {
        "id": "079df9UESeAg"
      },
      "outputs": [],
      "source": [
        "import numpy as np\n",
        "import pandas as pd\n",
        "import matplotlib.pyplot as plt\n",
        "from sklearn.datasets import load_iris\n",
        "from sklearn.model_selection import train_test_split\n",
        "from seaborn import set_style\n",
        "set_style('darkgrid')\n",
        "from sklearn.preprocessing import StandardScaler\n",
        "from sklearn.neighbors import KNeighborsClassifier"
      ]
    },
    {
      "cell_type": "code",
      "source": [
        "# بارگذاری دیتاست Iris\n",
        "iris = load_iris()\n",
        "data=pd.DataFrame(iris.data, columns=iris.feature_names)\n",
        "data[\"target\"]=iris.target\n",
        "data.head()\n",
        "\n"
      ],
      "metadata": {
        "colab": {
          "base_uri": "https://localhost:8080/",
          "height": 206
        },
        "id": "-Wbj3j4MSo-4",
        "outputId": "6b37868a-52cb-4fec-91f2-3db942edb600"
      },
      "execution_count": 2,
      "outputs": [
        {
          "output_type": "execute_result",
          "data": {
            "text/plain": [
              "   sepal length (cm)  sepal width (cm)  petal length (cm)  petal width (cm)  \\\n",
              "0                5.1               3.5                1.4               0.2   \n",
              "1                4.9               3.0                1.4               0.2   \n",
              "2                4.7               3.2                1.3               0.2   \n",
              "3                4.6               3.1                1.5               0.2   \n",
              "4                5.0               3.6                1.4               0.2   \n",
              "\n",
              "   target  \n",
              "0       0  \n",
              "1       0  \n",
              "2       0  \n",
              "3       0  \n",
              "4       0  "
            ],
            "text/html": [
              "\n",
              "  <div id=\"df-11f6e271-6dc6-4918-b392-90b088b12580\" class=\"colab-df-container\">\n",
              "    <div>\n",
              "<style scoped>\n",
              "    .dataframe tbody tr th:only-of-type {\n",
              "        vertical-align: middle;\n",
              "    }\n",
              "\n",
              "    .dataframe tbody tr th {\n",
              "        vertical-align: top;\n",
              "    }\n",
              "\n",
              "    .dataframe thead th {\n",
              "        text-align: right;\n",
              "    }\n",
              "</style>\n",
              "<table border=\"1\" class=\"dataframe\">\n",
              "  <thead>\n",
              "    <tr style=\"text-align: right;\">\n",
              "      <th></th>\n",
              "      <th>sepal length (cm)</th>\n",
              "      <th>sepal width (cm)</th>\n",
              "      <th>petal length (cm)</th>\n",
              "      <th>petal width (cm)</th>\n",
              "      <th>target</th>\n",
              "    </tr>\n",
              "  </thead>\n",
              "  <tbody>\n",
              "    <tr>\n",
              "      <th>0</th>\n",
              "      <td>5.1</td>\n",
              "      <td>3.5</td>\n",
              "      <td>1.4</td>\n",
              "      <td>0.2</td>\n",
              "      <td>0</td>\n",
              "    </tr>\n",
              "    <tr>\n",
              "      <th>1</th>\n",
              "      <td>4.9</td>\n",
              "      <td>3.0</td>\n",
              "      <td>1.4</td>\n",
              "      <td>0.2</td>\n",
              "      <td>0</td>\n",
              "    </tr>\n",
              "    <tr>\n",
              "      <th>2</th>\n",
              "      <td>4.7</td>\n",
              "      <td>3.2</td>\n",
              "      <td>1.3</td>\n",
              "      <td>0.2</td>\n",
              "      <td>0</td>\n",
              "    </tr>\n",
              "    <tr>\n",
              "      <th>3</th>\n",
              "      <td>4.6</td>\n",
              "      <td>3.1</td>\n",
              "      <td>1.5</td>\n",
              "      <td>0.2</td>\n",
              "      <td>0</td>\n",
              "    </tr>\n",
              "    <tr>\n",
              "      <th>4</th>\n",
              "      <td>5.0</td>\n",
              "      <td>3.6</td>\n",
              "      <td>1.4</td>\n",
              "      <td>0.2</td>\n",
              "      <td>0</td>\n",
              "    </tr>\n",
              "  </tbody>\n",
              "</table>\n",
              "</div>\n",
              "    <div class=\"colab-df-buttons\">\n",
              "\n",
              "  <div class=\"colab-df-container\">\n",
              "    <button class=\"colab-df-convert\" onclick=\"convertToInteractive('df-11f6e271-6dc6-4918-b392-90b088b12580')\"\n",
              "            title=\"Convert this dataframe to an interactive table.\"\n",
              "            style=\"display:none;\">\n",
              "\n",
              "  <svg xmlns=\"http://www.w3.org/2000/svg\" height=\"24px\" viewBox=\"0 -960 960 960\">\n",
              "    <path d=\"M120-120v-720h720v720H120Zm60-500h600v-160H180v160Zm220 220h160v-160H400v160Zm0 220h160v-160H400v160ZM180-400h160v-160H180v160Zm440 0h160v-160H620v160ZM180-180h160v-160H180v160Zm440 0h160v-160H620v160Z\"/>\n",
              "  </svg>\n",
              "    </button>\n",
              "\n",
              "  <style>\n",
              "    .colab-df-container {\n",
              "      display:flex;\n",
              "      gap: 12px;\n",
              "    }\n",
              "\n",
              "    .colab-df-convert {\n",
              "      background-color: #E8F0FE;\n",
              "      border: none;\n",
              "      border-radius: 50%;\n",
              "      cursor: pointer;\n",
              "      display: none;\n",
              "      fill: #1967D2;\n",
              "      height: 32px;\n",
              "      padding: 0 0 0 0;\n",
              "      width: 32px;\n",
              "    }\n",
              "\n",
              "    .colab-df-convert:hover {\n",
              "      background-color: #E2EBFA;\n",
              "      box-shadow: 0px 1px 2px rgba(60, 64, 67, 0.3), 0px 1px 3px 1px rgba(60, 64, 67, 0.15);\n",
              "      fill: #174EA6;\n",
              "    }\n",
              "\n",
              "    .colab-df-buttons div {\n",
              "      margin-bottom: 4px;\n",
              "    }\n",
              "\n",
              "    [theme=dark] .colab-df-convert {\n",
              "      background-color: #3B4455;\n",
              "      fill: #D2E3FC;\n",
              "    }\n",
              "\n",
              "    [theme=dark] .colab-df-convert:hover {\n",
              "      background-color: #434B5C;\n",
              "      box-shadow: 0px 1px 3px 1px rgba(0, 0, 0, 0.15);\n",
              "      filter: drop-shadow(0px 1px 2px rgba(0, 0, 0, 0.3));\n",
              "      fill: #FFFFFF;\n",
              "    }\n",
              "  </style>\n",
              "\n",
              "    <script>\n",
              "      const buttonEl =\n",
              "        document.querySelector('#df-11f6e271-6dc6-4918-b392-90b088b12580 button.colab-df-convert');\n",
              "      buttonEl.style.display =\n",
              "        google.colab.kernel.accessAllowed ? 'block' : 'none';\n",
              "\n",
              "      async function convertToInteractive(key) {\n",
              "        const element = document.querySelector('#df-11f6e271-6dc6-4918-b392-90b088b12580');\n",
              "        const dataTable =\n",
              "          await google.colab.kernel.invokeFunction('convertToInteractive',\n",
              "                                                    [key], {});\n",
              "        if (!dataTable) return;\n",
              "\n",
              "        const docLinkHtml = 'Like what you see? Visit the ' +\n",
              "          '<a target=\"_blank\" href=https://colab.research.google.com/notebooks/data_table.ipynb>data table notebook</a>'\n",
              "          + ' to learn more about interactive tables.';\n",
              "        element.innerHTML = '';\n",
              "        dataTable['output_type'] = 'display_data';\n",
              "        await google.colab.output.renderOutput(dataTable, element);\n",
              "        const docLink = document.createElement('div');\n",
              "        docLink.innerHTML = docLinkHtml;\n",
              "        element.appendChild(docLink);\n",
              "      }\n",
              "    </script>\n",
              "  </div>\n",
              "\n",
              "\n",
              "<div id=\"df-3a6f4de7-4dc6-4ae1-b8cc-efbf7f0e3e55\">\n",
              "  <button class=\"colab-df-quickchart\" onclick=\"quickchart('df-3a6f4de7-4dc6-4ae1-b8cc-efbf7f0e3e55')\"\n",
              "            title=\"Suggest charts\"\n",
              "            style=\"display:none;\">\n",
              "\n",
              "<svg xmlns=\"http://www.w3.org/2000/svg\" height=\"24px\"viewBox=\"0 0 24 24\"\n",
              "     width=\"24px\">\n",
              "    <g>\n",
              "        <path d=\"M19 3H5c-1.1 0-2 .9-2 2v14c0 1.1.9 2 2 2h14c1.1 0 2-.9 2-2V5c0-1.1-.9-2-2-2zM9 17H7v-7h2v7zm4 0h-2V7h2v10zm4 0h-2v-4h2v4z\"/>\n",
              "    </g>\n",
              "</svg>\n",
              "  </button>\n",
              "\n",
              "<style>\n",
              "  .colab-df-quickchart {\n",
              "      --bg-color: #E8F0FE;\n",
              "      --fill-color: #1967D2;\n",
              "      --hover-bg-color: #E2EBFA;\n",
              "      --hover-fill-color: #174EA6;\n",
              "      --disabled-fill-color: #AAA;\n",
              "      --disabled-bg-color: #DDD;\n",
              "  }\n",
              "\n",
              "  [theme=dark] .colab-df-quickchart {\n",
              "      --bg-color: #3B4455;\n",
              "      --fill-color: #D2E3FC;\n",
              "      --hover-bg-color: #434B5C;\n",
              "      --hover-fill-color: #FFFFFF;\n",
              "      --disabled-bg-color: #3B4455;\n",
              "      --disabled-fill-color: #666;\n",
              "  }\n",
              "\n",
              "  .colab-df-quickchart {\n",
              "    background-color: var(--bg-color);\n",
              "    border: none;\n",
              "    border-radius: 50%;\n",
              "    cursor: pointer;\n",
              "    display: none;\n",
              "    fill: var(--fill-color);\n",
              "    height: 32px;\n",
              "    padding: 0;\n",
              "    width: 32px;\n",
              "  }\n",
              "\n",
              "  .colab-df-quickchart:hover {\n",
              "    background-color: var(--hover-bg-color);\n",
              "    box-shadow: 0 1px 2px rgba(60, 64, 67, 0.3), 0 1px 3px 1px rgba(60, 64, 67, 0.15);\n",
              "    fill: var(--button-hover-fill-color);\n",
              "  }\n",
              "\n",
              "  .colab-df-quickchart-complete:disabled,\n",
              "  .colab-df-quickchart-complete:disabled:hover {\n",
              "    background-color: var(--disabled-bg-color);\n",
              "    fill: var(--disabled-fill-color);\n",
              "    box-shadow: none;\n",
              "  }\n",
              "\n",
              "  .colab-df-spinner {\n",
              "    border: 2px solid var(--fill-color);\n",
              "    border-color: transparent;\n",
              "    border-bottom-color: var(--fill-color);\n",
              "    animation:\n",
              "      spin 1s steps(1) infinite;\n",
              "  }\n",
              "\n",
              "  @keyframes spin {\n",
              "    0% {\n",
              "      border-color: transparent;\n",
              "      border-bottom-color: var(--fill-color);\n",
              "      border-left-color: var(--fill-color);\n",
              "    }\n",
              "    20% {\n",
              "      border-color: transparent;\n",
              "      border-left-color: var(--fill-color);\n",
              "      border-top-color: var(--fill-color);\n",
              "    }\n",
              "    30% {\n",
              "      border-color: transparent;\n",
              "      border-left-color: var(--fill-color);\n",
              "      border-top-color: var(--fill-color);\n",
              "      border-right-color: var(--fill-color);\n",
              "    }\n",
              "    40% {\n",
              "      border-color: transparent;\n",
              "      border-right-color: var(--fill-color);\n",
              "      border-top-color: var(--fill-color);\n",
              "    }\n",
              "    60% {\n",
              "      border-color: transparent;\n",
              "      border-right-color: var(--fill-color);\n",
              "    }\n",
              "    80% {\n",
              "      border-color: transparent;\n",
              "      border-right-color: var(--fill-color);\n",
              "      border-bottom-color: var(--fill-color);\n",
              "    }\n",
              "    90% {\n",
              "      border-color: transparent;\n",
              "      border-bottom-color: var(--fill-color);\n",
              "    }\n",
              "  }\n",
              "</style>\n",
              "\n",
              "  <script>\n",
              "    async function quickchart(key) {\n",
              "      const quickchartButtonEl =\n",
              "        document.querySelector('#' + key + ' button');\n",
              "      quickchartButtonEl.disabled = true;  // To prevent multiple clicks.\n",
              "      quickchartButtonEl.classList.add('colab-df-spinner');\n",
              "      try {\n",
              "        const charts = await google.colab.kernel.invokeFunction(\n",
              "            'suggestCharts', [key], {});\n",
              "      } catch (error) {\n",
              "        console.error('Error during call to suggestCharts:', error);\n",
              "      }\n",
              "      quickchartButtonEl.classList.remove('colab-df-spinner');\n",
              "      quickchartButtonEl.classList.add('colab-df-quickchart-complete');\n",
              "    }\n",
              "    (() => {\n",
              "      let quickchartButtonEl =\n",
              "        document.querySelector('#df-3a6f4de7-4dc6-4ae1-b8cc-efbf7f0e3e55 button');\n",
              "      quickchartButtonEl.style.display =\n",
              "        google.colab.kernel.accessAllowed ? 'block' : 'none';\n",
              "    })();\n",
              "  </script>\n",
              "</div>\n",
              "    </div>\n",
              "  </div>\n"
            ],
            "application/vnd.google.colaboratory.intrinsic+json": {
              "type": "dataframe",
              "variable_name": "data",
              "summary": "{\n  \"name\": \"data\",\n  \"rows\": 150,\n  \"fields\": [\n    {\n      \"column\": \"sepal length (cm)\",\n      \"properties\": {\n        \"dtype\": \"number\",\n        \"std\": 0.8280661279778629,\n        \"min\": 4.3,\n        \"max\": 7.9,\n        \"num_unique_values\": 35,\n        \"samples\": [\n          6.2,\n          4.5,\n          5.6\n        ],\n        \"semantic_type\": \"\",\n        \"description\": \"\"\n      }\n    },\n    {\n      \"column\": \"sepal width (cm)\",\n      \"properties\": {\n        \"dtype\": \"number\",\n        \"std\": 0.435866284936698,\n        \"min\": 2.0,\n        \"max\": 4.4,\n        \"num_unique_values\": 23,\n        \"samples\": [\n          2.3,\n          4.0,\n          3.5\n        ],\n        \"semantic_type\": \"\",\n        \"description\": \"\"\n      }\n    },\n    {\n      \"column\": \"petal length (cm)\",\n      \"properties\": {\n        \"dtype\": \"number\",\n        \"std\": 1.7652982332594667,\n        \"min\": 1.0,\n        \"max\": 6.9,\n        \"num_unique_values\": 43,\n        \"samples\": [\n          6.7,\n          3.8,\n          3.7\n        ],\n        \"semantic_type\": \"\",\n        \"description\": \"\"\n      }\n    },\n    {\n      \"column\": \"petal width (cm)\",\n      \"properties\": {\n        \"dtype\": \"number\",\n        \"std\": 0.7622376689603465,\n        \"min\": 0.1,\n        \"max\": 2.5,\n        \"num_unique_values\": 22,\n        \"samples\": [\n          0.2,\n          1.2,\n          1.3\n        ],\n        \"semantic_type\": \"\",\n        \"description\": \"\"\n      }\n    },\n    {\n      \"column\": \"target\",\n      \"properties\": {\n        \"dtype\": \"number\",\n        \"std\": 0,\n        \"min\": 0,\n        \"max\": 2,\n        \"num_unique_values\": 3,\n        \"samples\": [\n          0,\n          1,\n          2\n        ],\n        \"semantic_type\": \"\",\n        \"description\": \"\"\n      }\n    }\n  ]\n}"
            }
          },
          "metadata": {},
          "execution_count": 2
        }
      ]
    },
    {
      "cell_type": "markdown",
      "source": [
        "sepal length (cm) کلاسترینگ بر اساس"
      ],
      "metadata": {
        "id": "ue7crpnLS8Sj"
      }
    },
    {
      "cell_type": "code",
      "source": [
        "from sklearn.cluster import KMeans"
      ],
      "metadata": {
        "id": "PVkKtScPTaPE"
      },
      "execution_count": 3,
      "outputs": []
    },
    {
      "cell_type": "code",
      "source": [
        "# بارگذاری داده\n",
        "\n",
        "X = iris.data[:, 0].reshape(-1, 1)  # فقط sepal length\n",
        "y = iris.target\n"
      ],
      "metadata": {
        "id": "fnF7zDKXTEzE"
      },
      "execution_count": 4,
      "outputs": []
    },
    {
      "cell_type": "code",
      "source": [
        "from sklearn.datasets import load_iris\n",
        "from sklearn.neighbors import KNeighborsClassifier\n",
        "from sklearn.model_selection import train_test_split\n",
        "import numpy as np\n",
        "\n",
        "# 1. بارگیری داده‌ها\n",
        "iris = load_iris()\n",
        "X, y = iris.data, iris.target\n",
        "\n",
        "# 2. تقسیم داده\n",
        "X_train, _, y_train, _ = train_test_split(X, y, test_size=0.2)\n",
        "\n",
        "# 3. محاسبه k بهینه\n",
        "n_train = len(X_train)\n",
        "optimal_k = int(np.sqrt(n_train))\n",
        "\n",
        "# تبدیل به عدد فرد نزدیک\n",
        "optimal_k = optimal_k if optimal_k % 2 != 0 else optimal_k + 1\n",
        "\n",
        "# 4. آموزش و ارزیابی مدل\n",
        "knn = KNeighborsClassifier(n_neighbors=optimal_k)\n",
        "knn.fit(X_train, y_train)\n",
        "train_accuracy = knn.score(X_train, y_train)\n",
        "print(f\"دقت روی داده آموزش: {train_accuracy:.2%}\")\n",
        "\n",
        "print(f\"تعداد داده‌های آموزش: {n_train}\")\n"
      ],
      "metadata": {
        "colab": {
          "base_uri": "https://localhost:8080/"
        },
        "id": "mJNI1zIddQco",
        "outputId": "d29b1bb2-c9ba-419c-e40a-71518b0cd4ba"
      },
      "execution_count": 15,
      "outputs": [
        {
          "output_type": "stream",
          "name": "stdout",
          "text": [
            "دقت روی داده آموزش: 99.17%\n",
            "تعداد داده‌های آموزش: 120\n"
          ]
        }
      ]
    },
    {
      "cell_type": "code",
      "source": [
        "# اجرای K-Means\n",
        "kmeans = KMeans(n_clusters=3)\n",
        "predicted = kmeans.fit_predict(X)\n"
      ],
      "metadata": {
        "id": "QSRz9rp2THQL"
      },
      "execution_count": 5,
      "outputs": []
    },
    {
      "cell_type": "code",
      "source": [
        "\n",
        "# تطبیق برچسب‌ها\n",
        "from sklearn.metrics import confusion_matrix\n",
        "from scipy.optimize import linear_sum_assignment\n",
        "\n",
        "cm = confusion_matrix(y, predicted)\n",
        "row_ind, col_ind = linear_sum_assignment(-cm)\n",
        "label_map = {pred: true for true, pred in zip(row_ind, col_ind)}\n",
        "adjusted_pred = np.array([label_map[p] for p in predicted])\n",
        "\n",
        "\n",
        "print(f\"داده‌های اشتباه: {len(y) - (adjusted_pred == y).sum()} از {len(y)}\")"
      ],
      "metadata": {
        "colab": {
          "base_uri": "https://localhost:8080/"
        },
        "id": "UHyFT8UkTD9a",
        "outputId": "e8f2bfd1-e32a-430a-9653-8fecb8c19102"
      },
      "execution_count": 16,
      "outputs": [
        {
          "output_type": "stream",
          "name": "stdout",
          "text": [
            "داده‌های اشتباه: 6 از 150\n"
          ]
        }
      ]
    },
    {
      "cell_type": "code",
      "source": [],
      "metadata": {
        "id": "Ra91eMWrTmo_"
      },
      "execution_count": null,
      "outputs": []
    },
    {
      "cell_type": "markdown",
      "source": [
        "sepal width (cm)کلاسترینگ با"
      ],
      "metadata": {
        "id": "auh4fJX9Tw5B"
      }
    },
    {
      "cell_type": "code",
      "source": [
        "X = iris.data[:, 1].reshape(-1, 1)  # فقط sepal width\n",
        "\n",
        "kmeans = KMeans(n_clusters=3)\n",
        "predicted = kmeans.fit_predict(X)\n",
        "\n",
        "cm = confusion_matrix(y, predicted)\n",
        "row_ind, col_ind = linear_sum_assignment(-cm)\n",
        "label_map = {pred: true for true, pred in zip(row_ind, col_ind)}\n",
        "adjusted_pred = np.array([label_map[p] for p in predicted])\n",
        "\n",
        "\n",
        "print(f\"داده‌های اشتباه: {len(y) - (adjusted_pred == y).sum()} از {len(y)}\")"
      ],
      "metadata": {
        "colab": {
          "base_uri": "https://localhost:8080/"
        },
        "id": "QMfLh3fiT0UJ",
        "outputId": "31cab708-c349-40d8-e1c8-59712cb0a372"
      },
      "execution_count": 17,
      "outputs": [
        {
          "output_type": "stream",
          "name": "stdout",
          "text": [
            "داده‌های اشتباه: 65 از 150\n"
          ]
        }
      ]
    },
    {
      "cell_type": "markdown",
      "source": [
        "petal length (cm) کلاسترینگ با"
      ],
      "metadata": {
        "id": "6qznDzQcUA0w"
      }
    },
    {
      "cell_type": "code",
      "source": [
        "X = iris.data[:, 2].reshape(-1, 1)  # فقط petal length\n",
        "\n",
        "kmeans = KMeans(n_clusters=3)\n",
        "predicted = kmeans.fit_predict(X)\n",
        "\n",
        "cm = confusion_matrix(y, predicted)\n",
        "row_ind, col_ind = linear_sum_assignment(-cm)\n",
        "label_map = {pred: true for true, pred in zip(row_ind, col_ind)}\n",
        "adjusted_pred = np.array([label_map[p] for p in predicted])\n",
        "\n",
        "\n",
        "print(f\"داده‌های اشتباه: {len(y) - (adjusted_pred == y).sum()} از {len(y)}\")"
      ],
      "metadata": {
        "colab": {
          "base_uri": "https://localhost:8080/"
        },
        "id": "Lym0RO6ZT6oc",
        "outputId": "c0f6e6b3-8fb7-4866-f1b6-a34b581675cf"
      },
      "execution_count": 18,
      "outputs": [
        {
          "output_type": "stream",
          "name": "stdout",
          "text": [
            "داده‌های اشتباه: 16 از 150\n"
          ]
        }
      ]
    },
    {
      "cell_type": "markdown",
      "source": [
        "petal width (cm)کلاسترینگ با"
      ],
      "metadata": {
        "id": "nif5RjJVUN4w"
      }
    },
    {
      "cell_type": "code",
      "source": [
        "X = iris.data[:, 3].reshape(-1, 1)  # فقط petal width\n",
        "\n",
        "kmeans = KMeans(n_clusters=3)\n",
        "predicted = kmeans.fit_predict(X)\n",
        "\n",
        "cm = confusion_matrix(y, predicted)\n",
        "row_ind, col_ind = linear_sum_assignment(-cm)\n",
        "label_map = {pred: true for true, pred in zip(row_ind, col_ind)}\n",
        "adjusted_pred = np.array([label_map[p] for p in predicted])\n",
        "\n",
        "\n",
        "print(f\"داده‌های اشتباه: {len(y) - (adjusted_pred == y).sum()} از {len(y)}\")"
      ],
      "metadata": {
        "colab": {
          "base_uri": "https://localhost:8080/"
        },
        "id": "Yqee_8-cUNjG",
        "outputId": "659bed1c-3113-4b39-823b-5ec9228faea6"
      },
      "execution_count": 19,
      "outputs": [
        {
          "output_type": "stream",
          "name": "stdout",
          "text": [
            "داده‌های اشتباه: 6 از 150\n"
          ]
        }
      ]
    },
    {
      "cell_type": "code",
      "source": [
        "import numpy as np\n",
        "from sklearn.datasets import load_iris\n",
        "from sklearn.cluster import KMeans\n",
        "from sklearn.metrics import confusion_matrix\n",
        "from scipy.optimize import linear_sum_assignment\n",
        "\n",
        "# بارگیری داده‌های iris\n",
        "iris = load_iris()\n",
        "X = iris.data\n",
        "y = iris.target\n",
        "\n",
        "# لیست برای ذخیره ماسک‌های اشتباه\n",
        "wrong_masks = []\n",
        "\n",
        "# بررسی هر ویژگی به صورت جداگانه\n",
        "for i in range(4):\n",
        "    X_feature = X[:, i].reshape(-1, 1)  # انتخاب ویژگی i-ام\n",
        "\n",
        "    # خوشه‌بندی با K-Means\n",
        "    kmeans = KMeans(n_clusters=3)\n",
        "    predicted = kmeans.fit_predict(X_feature)\n",
        "\n",
        "    # تطبیق برچسب‌ها\n",
        "    cm = confusion_matrix(y, predicted)\n",
        "    row_ind, col_ind = linear_sum_assignment(-cm)\n",
        "    label_map = {pred: true for true, pred in zip(row_ind, col_ind)}\n",
        "    adjusted_pred = np.array([label_map[p] for p in predicted])\n",
        "\n",
        "    # ذخیره ماسک داده‌های اشتباه\n",
        "    wrong_mask = (adjusted_pred != y)\n",
        "    wrong_masks.append(wrong_mask)\n",
        "    print(f\"ویژگی {iris.feature_names[i]}: {wrong_mask.sum()} داده اشتباه\")\n",
        "\n",
        "# محاسبه اشتراک ماسک‌های اشتباه\n",
        "common_wrong_mask = np.all(wrong_masks, axis=0)\n",
        "\n",
        "# نمایش داده‌های اشتباه مشترک\n",
        "print(f\"\\nتعداد داده‌های اشتباه مشترک در تمام ویژگی‌ها: {common_wrong_mask.sum()}\")\n",
        "print(\"اندیس داده‌های اشتباه مشترک:\", np.where(common_wrong_mask)[0])"
      ],
      "metadata": {
        "id": "IklEG2qCUIGA",
        "colab": {
          "base_uri": "https://localhost:8080/"
        },
        "outputId": "3b6ad115-a978-426d-954f-eb5acd50f78d"
      },
      "execution_count": 23,
      "outputs": [
        {
          "output_type": "stream",
          "name": "stdout",
          "text": [
            "ویژگی sepal length (cm): 42 داده اشتباه\n",
            "ویژگی sepal width (cm): 66 داده اشتباه\n",
            "ویژگی petal length (cm): 7 داده اشتباه\n",
            "ویژگی petal width (cm): 6 داده اشتباه\n",
            "\n",
            "تعداد داده‌های اشتباه مشترک در تمام ویژگی‌ها: 1\n",
            "اندیس داده‌های اشتباه مشترک: [106]\n"
          ]
        }
      ]
    },
    {
      "cell_type": "code",
      "source": [
        "import numpy as np\n",
        "from sklearn.datasets import load_iris\n",
        "from sklearn.cluster import KMeans\n",
        "from sklearn.neighbors import KNeighborsClassifier\n",
        "from sklearn.metrics import confusion_matrix\n",
        "from scipy.optimize import linear_sum_assignment\n",
        "\n",
        "# بارگیری داده‌های iris\n",
        "iris = load_iris()\n",
        "X = iris.data\n",
        "y = iris.target\n",
        "\n",
        "# لیست برای ذخیره ماسک‌های اشتباه و ویژگی‌های قابل قبول\n",
        "wrong_masks = []\n",
        "selected_features = []\n",
        "\n",
        "# بررسی هر ویژگی به صورت جداگانه\n",
        "for i in range(4):\n",
        "    X_feature = X[:, i].reshape(-1, 1)  # انتخاب ویژگی i-ام\n",
        "\n",
        "    # خوشه‌بندی با K-Means\n",
        "    kmeans = KMeans(n_clusters=3)\n",
        "    predicted = kmeans.fit_predict(X_feature)\n",
        "\n",
        "    # تطبیق برچسب‌ها\n",
        "    cm = confusion_matrix(y, predicted)\n",
        "    row_ind, col_ind = linear_sum_assignment(-cm)\n",
        "    label_map = {pred: true for true, pred in zip(row_ind, col_ind)}\n",
        "    adjusted_pred = np.array([label_map[p] for p in predicted])\n",
        "\n",
        "    # محاسبه دقت و درصد خطا\n",
        "    accuracy = (adjusted_pred == y).mean()\n",
        "    error_percentage = 1 - accuracy\n",
        "\n",
        "    print(f\"ویژگی {iris.feature_names[i]}:\")\n",
        "    print(f\"  - درصد خطا: {error_percentage:.2%}\")\n",
        "    print(f\"  - تعداد داده‌های اشتباه: {(adjusted_pred != y).sum()}\")\n",
        "\n",
        "    # اگر درصد خطا کمتر از ۱۰٪ بود، ویژگی را انتخاب کن\n",
        "    if error_percentage < 0.10:\n",
        "        selected_features.append(i)\n",
        "        wrong_masks.append(adjusted_pred != y)\n",
        "\n",
        "# اگر هیچ ویژگی‌ای انتخاب نشد، حداقل یک ویژگی با کمترین خطا را انتخاب کن\n",
        "if not selected_features:\n",
        "    print(\"\\nهیچ ویژگی‌ای خطای کمتر از ۱۰٪ نداشت! ویژگی با کمترین خطا انتخاب می‌شود.\")\n",
        "    error_percentages = []\n",
        "    for i in range(4):\n",
        "        X_feature = X[:, i].reshape(-1, 1)\n",
        "        kmeans = KMeans(n_clusters=3)\n",
        "        predicted = kmeans.fit_predict(X_feature)\n",
        "        cm = confusion_matrix(y, predicted)\n",
        "        row_ind, col_ind = linear_sum_assignment(-cm)\n",
        "        label_map = {pred: true for true, pred in zip(row_ind, col_ind)}\n",
        "        adjusted_pred = np.array([label_map[p] for p in predicted])\n",
        "        error_percentages.append(1 - (adjusted_pred == y).mean())\n",
        "\n",
        "    best_feature = np.argmin(error_percentages)\n",
        "    selected_features.append(best_feature)\n",
        "    print(f\"ویژگی انتخاب شده: {iris.feature_names[best_feature]} با خطای {error_percentages[best_feature]:.2%}\")\n",
        "\n",
        "# محاسبه داده‌های اشتباه مشترک در ویژگی‌های انتخاب شده\n",
        "if len(selected_features) > 1:\n",
        "    common_wrong_mask = np.any(wrong_masks, axis=0)  # اگر در حداقل یک ویژگی اشتباه بود\n",
        "else:\n",
        "    common_wrong_mask = wrong_masks[0]\n",
        "\n",
        "# حذف داده‌های اشتباه مشترک\n",
        "X_filtered = X[~common_wrong_mask]\n",
        "y_filtered = y[~common_wrong_mask]\n",
        "\n",
        "print(f\"\\nویژگی‌های انتخاب شده (خطا < ۱۰٪): {[iris.feature_names[i] for i in selected_features]}\")\n",
        "print(f\"تعداد داده‌های اشتباه در ویژگی‌های انتخابی: {common_wrong_mask.sum()}\")\n",
        "print(f\"تعداد داده‌های باقی‌مانده پس از حذف: {len(X_filtered)}\")\n",
        "\n",
        "# انتخاب فقط ویژگی‌های با خطای کم\n",
        "X_filtered_selected = X_filtered[:, selected_features]\n",
        "\n",
        "# تقسیم داده به آموزش و آزمون\n",
        "from sklearn.model_selection import train_test_split\n",
        "X_train, X_test, y_train, y_test = train_test_split(X_filtered_selected, y_filtered, test_size=0.2)\n",
        "\n",
        "# آموزش KNN Classifier\n",
        "knn = KNeighborsClassifier(n_neighbors=3)\n",
        "knn.fit(X_train, y_train)\n",
        "\n",
        "# محاسبه دقت\n",
        "accuracy = knn.score(X_test, y_test)\n",
        "print(f\"\\nدقت نهایی با KNN روی داده‌های پاک‌سازی شده: {accuracy:.2%}\")"
      ],
      "metadata": {
        "colab": {
          "base_uri": "https://localhost:8080/"
        },
        "id": "GqyJIEpNW-lh",
        "outputId": "bebe65ff-2557-4c2e-e1e5-c5c946aa153b"
      },
      "execution_count": 30,
      "outputs": [
        {
          "output_type": "stream",
          "name": "stdout",
          "text": [
            "ویژگی sepal length (cm):\n",
            "  - درصد خطا: 28.00%\n",
            "  - تعداد داده‌های اشتباه: 42\n",
            "ویژگی sepal width (cm):\n",
            "  - درصد خطا: 48.67%\n",
            "  - تعداد داده‌های اشتباه: 73\n",
            "ویژگی petal length (cm):\n",
            "  - درصد خطا: 4.67%\n",
            "  - تعداد داده‌های اشتباه: 7\n",
            "ویژگی petal width (cm):\n",
            "  - درصد خطا: 4.00%\n",
            "  - تعداد داده‌های اشتباه: 6\n",
            "\n",
            "ویژگی‌های انتخاب شده (خطا < ۱۰٪): ['petal length (cm)', 'petal width (cm)']\n",
            "تعداد داده‌های اشتباه در ویژگی‌های انتخابی: 12\n",
            "تعداد داده‌های باقی‌مانده پس از حذف: 138\n",
            "\n",
            "دقت نهایی با KNN روی داده‌های پاک‌سازی شده: 100.00%\n"
          ]
        }
      ]
    }
  ]
}